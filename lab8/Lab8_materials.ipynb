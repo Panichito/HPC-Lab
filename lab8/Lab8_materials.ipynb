{
 "cells": [
  {
   "cell_type": "markdown",
   "metadata": {
    "id": "vvd-C21IVxFJ"
   },
   "source": [
    "## 🧪 Lab 8 GPU benchmarking\n",
    "\n",
    "**Detail:**\n",
    "*\tOpen lab8-materials.ipynb on Google Colab for easily GPU access.\n",
    "*\tDo experiment with different size of matrix to see the execution time of each device.\n",
    "  - Plot the execution time vs matrix size for both GPU and CPU (in the same graph)\n",
    "  - Briefly explain the result and conclude my founding."
   ]
  },
  {
   "cell_type": "markdown",
   "metadata": {
    "id": "bM2zmpeQU3i8"
   },
   "source": [
    "### 📚 Import library"
   ]
  },
  {
   "cell_type": "code",
   "execution_count": 3,
   "metadata": {
    "id": "ZLwQHXLqybLa"
   },
   "outputs": [],
   "source": [
    "import numpy as np\n",
    "import tensorflow as tf\n",
    "import time"
   ]
  },
  {
   "cell_type": "markdown",
   "metadata": {
    "id": "EHtOb-9QVAvw"
   },
   "source": [
    "### 🔌 Check if the runtime is set to use the GPU."
   ]
  },
  {
   "cell_type": "code",
   "execution_count": 4,
   "metadata": {
    "id": "zqNShKjwycs0"
   },
   "outputs": [
    {
     "data": {
      "text/plain": [
       "[]"
      ]
     },
     "execution_count": 4,
     "metadata": {},
     "output_type": "execute_result"
    }
   ],
   "source": [
    "tf.config.list_physical_devices('GPU')"
   ]
  },
  {
   "cell_type": "markdown",
   "metadata": {
    "id": "xh8xKVGwVf3w"
   },
   "source": [
    "### 🔎 Experiments"
   ]
  },
  {
   "cell_type": "code",
   "execution_count": 6,
   "metadata": {
    "id": "c5QfcK6jyuRQ"
   },
   "outputs": [
    {
     "name": "stdout",
     "output_type": "stream",
     "text": [
      "Matrix size: 1000 x 1000\n",
      "GPU: 0.021218061447143555 sec\n",
      "CPU: 0.03404116630554199 sec\n"
     ]
    }
   ],
   "source": [
    "np.random.seed(1)\n",
    "n = 1000 \n",
    "print(\"Matrix size:\", n,\"x\",n)\n",
    "x = np.array(np.random.randn(n,n), dtype = np.float32)\n",
    "y = np.array(np.random.randn(n,n), dtype = np.float32)\n",
    "\n",
    "start = time.time();\n",
    "matrix_multi = tf.matmul(x,y) # maltiply matrix parallely using GPU\n",
    "print(\"GPU:\", time.time() - start, \"sec\")\n",
    "\n",
    "start = time.time();\n",
    "x.dot(y); # maltiply matrix parallely using CPU\n",
    "print(\"CPU:\", time.time() - start, \"sec\")"
   ]
  },
  {
   "cell_type": "markdown",
   "metadata": {
    "id": "-J_DxVvgUWbl"
   },
   "source": [
    "Copy the above cell and try to vary the size of the matrix to see the trend of execution time from each device."
   ]
  }
 ],
 "metadata": {
  "accelerator": "GPU",
  "colab": {
   "provenance": []
  },
  "gpuClass": "standard",
  "kernelspec": {
   "display_name": "Python 3 (ipykernel)",
   "language": "python",
   "name": "python3"
  },
  "language_info": {
   "codemirror_mode": {
    "name": "ipython",
    "version": 3
   },
   "file_extension": ".py",
   "mimetype": "text/x-python",
   "name": "python",
   "nbconvert_exporter": "python",
   "pygments_lexer": "ipython3",
   "version": "3.10.6"
  }
 },
 "nbformat": 4,
 "nbformat_minor": 1
}
